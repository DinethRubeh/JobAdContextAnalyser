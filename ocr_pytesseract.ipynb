{
 "cells": [
  {
   "cell_type": "code",
   "execution_count": 8,
   "metadata": {},
   "outputs": [],
   "source": [
    "from PIL import Image\n",
    "import pytesseract"
   ]
  },
  {
   "cell_type": "code",
   "execution_count": 14,
   "metadata": {},
   "outputs": [],
   "source": [
    "img = Image.open(\"4419ccalcey.png\")\n",
    "# converts to a grayscale image\n",
    "grayscale_img = img.convert('L')\n",
    "grayscale_img.save(\"4419ccalcey_g.png\")\n",
    "# converts to a black and white image\n",
    "# black-white mapping of each pixel, output image mode = 1 if src image mode is \"L\" or \"P\"\n",
    "# blackwhite_img = grayscale_img.point(lambda x: 0 if x < 200 else 255, '1')\n",
    "# blackwhite_img.save(\"4419ccalcey_bw.png\")"
   ]
  },
  {
   "cell_type": "code",
   "execution_count": 15,
   "metadata": {},
   "outputs": [],
   "source": [
    "# Digitize an Image\n",
    "def digImage(path):\n",
    "    image = Image.open(path)\n",
    "    text = pytesseract.image_to_string(image, config='--psm 6')\n",
    "    return text\n",
    "\n",
    "### Page segmentation modes:\n",
    "\n",
    "#   0    Orientation and script detection (OSD) only.\n",
    "#   1    Automatic page segmentation with OSD.\n",
    "#   2    Automatic page segmentation, but no OSD, or OCR.\n",
    "#   3    Fully automatic page segmentation, but no OSD. (Default)\n",
    "#   4    Assume a single column of text of variable sizes.\n",
    "#   5    Assume a single uniform block of vertically aligned text.\n",
    "#   6    Assume a single uniform block of text.\n",
    "#   7    Treat the image as a single text line.\n",
    "#   8    Treat the image as a single word.\n",
    "#   9    Treat the image as a single word in a circle.\n",
    "#  10    Treat the image as a single character.\n",
    "#  11    Sparse text. Find as much text as possible in no particular order.\n",
    "#  12    Sparse text with OSD.\n",
    "#  13    Raw line. Treat the image as a single text line,\n",
    "#                         bypassing hacks that are Tesseract-specific.\n",
    "\n",
    "# tessedit_char_whitelist=0123456789 -> text with numbers\n",
    "pytesseract.pytesseract.tesseract_cmd = r\"C:\\Program Files\\Tesseract-OCR\\tesseract.exe\""
   ]
  },
  {
   "cell_type": "code",
   "execution_count": 17,
   "metadata": {},
   "outputs": [
    {
     "name": "stdout",
     "output_type": "stream",
     "text": [
      "Be a part of Team Calcey !\n",
      "i\n",
      "i f PS\n",
      "—— S / el uy\n",
      "To SU Cle Valco Xed iat\n",
      "ale 2 = 1 PEt\n",
      "bie, . ah Li |\n",
      "| tl\n",
      "nes\n",
      "x | A a! ” i= Ph! A ; ee\n",
      "ag Ri ey.\n",
      "4 P Yo a a i) = iI\n",
      "Vee” So Bia =e\n",
      "c Cte acs a\n",
      "eg 4 eet a\n",
      "OS 4 yo al a . aS AS\n",
      "; a ¢ \\ “wl Ee = ‘ Pe\n",
      "Ca al jn iss\n",
      "Ee el iter hi\n",
      "= 3+ years experience designing and executing enterprise class products\n",
      "S 8+ years experience in software development\n",
      "S High proficiency & hands on technical leadership in some of the following\n",
      "technologies:\n",
      "~ Mobile App Engineering - Objective C, Swift, Flutter, kotlin, Windows,\n",
      "Le Toa ET\n",
      "c Web Technologies - HTMLS, Ajax, Angular, lonic, React, Backbone, Knockout\n",
      "cS Enterprise Applications - Microservices, Containers, Service orchestration\n",
      "ce Microsoft Technologies - .NET / .NET Core, WCF, WPF, Web Services\n",
      "~ Open Source Technologies - Nodes, Python, PHP, Go, Java\n",
      "cS Databases - MS SQL Server, Oracle, MySQL, PostgreSQL, Non-Relational\n",
      "Databases (Elasticsearch, MongoDB)\n",
      "ce A desire to utilize tooling and approaches such as TDD, BDD, Continuous delivery,\n",
      "Git and build pipelines to ensure product delivery becomes routine and safe\n",
      "- Knowledge of Message processing and stream processing is desirable\n",
      "ce Experience in containerized deployment (Docker) is a must\n",
      "- Willingness to learn different programming paradigms, languages and technologies\n",
      "is a requirement\n",
      "< Experience working on multiple software projects throughout their full life cycles\n",
      "= A deep understanding of Agile development methodologies and DevOps\n",
      "- Expert on object oriented design, design patterns and data structures\n",
      "- Self-motivated, detail-oriented and strong analytical / problem solving skills\n",
      "ce Excellent verbal and written English communication skills\n",
      "calcey.com jobs@calcey.com Galcey\n"
     ]
    }
   ],
   "source": [
    "print(digImage(\"4419ccalcey_g.png\"))"
   ]
  },
  {
   "cell_type": "code",
   "execution_count": null,
   "metadata": {},
   "outputs": [],
   "source": []
  }
 ],
 "metadata": {
  "kernelspec": {
   "display_name": "Python 3",
   "language": "python",
   "name": "python3"
  },
  "language_info": {
   "codemirror_mode": {
    "name": "ipython",
    "version": 3
   },
   "file_extension": ".py",
   "mimetype": "text/x-python",
   "name": "python",
   "nbconvert_exporter": "python",
   "pygments_lexer": "ipython3",
   "version": "3.6.10"
  }
 },
 "nbformat": 4,
 "nbformat_minor": 4
}
